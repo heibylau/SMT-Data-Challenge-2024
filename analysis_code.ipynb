{
 "cells": [
  {
   "cell_type": "code",
   "execution_count": null,
   "metadata": {},
   "outputs": [],
   "source": [
    "import pandas as pd\n",
    "import pyarrow.dataset as pads\n",
    "from SMT_data_starter import readDataSubset"
   ]
  },
  {
   "cell_type": "markdown",
   "metadata": {},
   "source": [
    "## Getting season metrics for all pitchers"
   ]
  },
  {
   "cell_type": "code",
   "execution_count": null,
   "metadata": {},
   "outputs": [],
   "source": [
    "game_info_subset = readDataSubset('game_info', '2024_SMT_Data_Challenge')\n",
    "game_info_1A = game_info_subset.to_table(filter = (pads.field('Season') == 'Season_1884') & (pads.field('home_team') == 'Home1A') & (pads.field('top_bottom') == 'top') & (pads.field('pitcher') < 1000)).to_pandas().dropna(subset=['pitcher'])\n",
    "game_info_2A = game_info_subset.to_table(filter = (pads.field('Season') == 'Season_1884') & (pads.field('home_team') == 'Home2A') & (pads.field('top_bottom') == 'top') & (pads.field('pitcher') < 1000)).to_pandas().dropna(subset=['pitcher'])\n",
    "game_info_3A = game_info_subset.to_table(filter = (pads.field('Season') == 'Season_1884') & (pads.field('home_team') == 'Home3A') & (pads.field('top_bottom') == 'top') & (pads.field('pitcher') < 1000)).to_pandas().dropna(subset=['pitcher'])\n",
    "game_info_4A = game_info_subset.to_table(filter = (pads.field('Season') == 'Season_1884') & (pads.field('home_team') == 'Home4A') & (pads.field('top_bottom') == 'top') & (pads.field('pitcher') < 1000)).to_pandas().dropna(subset=['pitcher'])"
   ]
  },
  {
   "cell_type": "code",
   "execution_count": null,
   "metadata": {},
   "outputs": [],
   "source": [
    "game_events_subset = readDataSubset('game_events', '2024_SMT_Data_Challenge')\n",
    "game_events_1A = game_events_subset.to_table(filter = (pads.field('Season') == 'Season_1884') & (pads.field('HomeTeam') == 'Home1A')).to_pandas()\n",
    "game_events_2A = game_events_subset.to_table(filter = (pads.field('Season') == 'Season_1884') & (pads.field('HomeTeam') == 'Home2A')).to_pandas()\n",
    "game_events_3A = game_events_subset.to_table(filter = (pads.field('Season') == 'Season_1884') & (pads.field('HomeTeam') == 'Home3A')).to_pandas()\n",
    "game_events_4A = game_events_subset.to_table(filter = (pads.field('Season') == 'Season_1884') & (pads.field('HomeTeam') == 'Home4A')).to_pandas()"
   ]
  },
  {
   "cell_type": "code",
   "execution_count": null,
   "metadata": {},
   "outputs": [],
   "source": [
    "from functions import calculate_pace, calculate_rest_days, get_pitching_metrics, create_pitching_metrics_df, create_cumulative_pitching_metrics_df, get_season_metrics_df, apply_fatigue_unit_equation, apply_muscle_fatigue_equation"
   ]
  },
  {
   "cell_type": "code",
   "execution_count": null,
   "metadata": {},
   "outputs": [],
   "source": [
    "pitchers_list_1A = game_info_1A['pitcher'].unique().tolist()\n",
    "pitchers_list_2A = game_info_2A['pitcher'].unique().tolist()\n",
    "pitchers_list_3A = game_info_3A['pitcher'].unique().tolist()\n",
    "pitchers_list_4A = game_info_4A['pitcher'].unique().tolist()"
   ]
  },
  {
   "cell_type": "code",
   "execution_count": null,
   "metadata": {},
   "outputs": [],
   "source": [
    "hits_list_1A, walks_list_1A, strikeout_list_1A, batters_faced_list_1A, innings_pitched_list_1A, is_starter_list_1A = get_pitching_metrics(game_info_1A, '1A')\n",
    "hits_list_2A, walks_list_2A, strikeout_list_2A, batters_faced_list_2A, innings_pitched_list_2A, is_starter_list_2A = get_pitching_metrics(game_info_2A, '2A')\n",
    "hits_list_3A, walks_list_3A, strikeout_list_3A, batters_faced_list_3A, innings_pitched_list_3A, is_starter_list_3A = get_pitching_metrics(game_info_3A, '3A')\n",
    "hits_list_4A, walks_list_4A, strikeout_list_4A, batters_faced_list_4A, innings_pitched_list_4A, is_starter_list_4A = get_pitching_metrics(game_info_4A, '4A')"
   ]
  },
  {
   "cell_type": "code",
   "execution_count": null,
   "metadata": {},
   "outputs": [],
   "source": [
    "pitching_metrics_1A = create_pitching_metrics_df(game_info_1A, hits_list_1A, walks_list_1A, strikeout_list_1A, batters_faced_list_1A, innings_pitched_list_1A, is_starter_list_1A)\n",
    "pitching_metrics_2A = create_pitching_metrics_df(game_info_2A, hits_list_2A, walks_list_2A, strikeout_list_2A, batters_faced_list_2A, innings_pitched_list_2A, is_starter_list_2A)\n",
    "pitching_metrics_3A = create_pitching_metrics_df(game_info_3A, hits_list_3A, walks_list_3A, strikeout_list_3A, batters_faced_list_3A, innings_pitched_list_3A, is_starter_list_3A)\n",
    "pitching_metrics_4A = create_pitching_metrics_df(game_info_4A, hits_list_4A, walks_list_4A, strikeout_list_4A, batters_faced_list_4A, innings_pitched_list_4A, is_starter_list_4A)"
   ]
  },
  {
   "cell_type": "code",
   "execution_count": null,
   "metadata": {},
   "outputs": [],
   "source": [
    "total_pitches_list_1A, pace_list_1A = calculate_pace(game_info_1A, '1A')\n",
    "total_pitches_list_2A, pace_list_2A = calculate_pace(game_info_2A, '2A')\n",
    "total_pitches_list_3A, pace_list_3A = calculate_pace(game_info_3A, '3A')\n",
    "total_pitches_list_4A, pace_list_4A = calculate_pace(game_info_4A, '4A')"
   ]
  },
  {
   "cell_type": "code",
   "execution_count": null,
   "metadata": {},
   "outputs": [],
   "source": [
    "pitching_metrics_1A['total_pitches'] = total_pitches_list_1A\n",
    "pitching_metrics_1A['pace'] = pace_list_1A\n",
    "pitching_metrics_2A['total_pitches'] = total_pitches_list_2A\n",
    "pitching_metrics_2A['pace'] = pace_list_2A\n",
    "pitching_metrics_3A['total_pitches'] = total_pitches_list_3A\n",
    "pitching_metrics_3A['pace'] = pace_list_3A\n",
    "pitching_metrics_4A['total_pitches'] = total_pitches_list_4A\n",
    "pitching_metrics_4A['pace'] = pace_list_4A"
   ]
  },
  {
   "cell_type": "code",
   "execution_count": null,
   "metadata": {},
   "outputs": [],
   "source": [
    "pitching_metrics_1A['muscle_fatigue'] = apply_muscle_fatigue_equation(pitching_metrics_1A)\n",
    "pitching_metrics_2A['muscle_fatigue'] = apply_muscle_fatigue_equation(pitching_metrics_2A)\n",
    "pitching_metrics_3A['muscle_fatigue'] = apply_muscle_fatigue_equation(pitching_metrics_3A)\n",
    "pitching_metrics_4A['muscle_fatigue'] = apply_muscle_fatigue_equation(pitching_metrics_4A)"
   ]
  },
  {
   "cell_type": "code",
   "execution_count": null,
   "metadata": {},
   "outputs": [],
   "source": [
    "cumulative_metrics_1A = create_cumulative_pitching_metrics_df(pitching_metrics_1A).drop(columns=['pace'])\n",
    "cumulative_metrics_2A = create_cumulative_pitching_metrics_df(pitching_metrics_2A).drop(columns=['pace'])\n",
    "cumulative_metrics_3A = create_cumulative_pitching_metrics_df(pitching_metrics_3A).drop(columns=['pace'])\n",
    "cumulative_metrics_4A = create_cumulative_pitching_metrics_df(pitching_metrics_4A).drop(columns=['pace'])"
   ]
  },
  {
   "cell_type": "code",
   "execution_count": null,
   "metadata": {},
   "outputs": [],
   "source": [
    "cumulative_metrics_1A['fatigue_units'] = apply_fatigue_unit_equation(cumulative_metrics_1A)\n",
    "cumulative_metrics_2A['fatigue_units'] = apply_fatigue_unit_equation(cumulative_metrics_2A)\n",
    "cumulative_metrics_3A['fatigue_units'] = apply_fatigue_unit_equation(cumulative_metrics_3A)\n",
    "cumulative_metrics_4A['fatigue_units'] = apply_fatigue_unit_equation(cumulative_metrics_4A)\n",
    "\n",
    "muscle_fatigue_1A_cumsum = pitching_metrics_1A.groupby('pitcher').agg({'muscle_fatigue': 'cumsum'})['muscle_fatigue'].tolist()\n",
    "muscle_fatigue_2A_cumsum = pitching_metrics_2A.groupby('pitcher').agg({'muscle_fatigue': 'cumsum'})['muscle_fatigue'].tolist()\n",
    "muscle_fatigue_3A_cumsum = pitching_metrics_3A.groupby('pitcher').agg({'muscle_fatigue': 'cumsum'})['muscle_fatigue'].tolist()\n",
    "muscle_fatigue_4A_cumsum = pitching_metrics_4A.groupby('pitcher').agg({'muscle_fatigue': 'cumsum'})['muscle_fatigue'].tolist()\n",
    "\n",
    "cumulative_metrics_1A['average_muscle_fatigue'] = muscle_fatigue_1A_cumsum / (cumulative_metrics_1A['games_played'])\n",
    "cumulative_metrics_2A['average_muscle_fatigue'] = muscle_fatigue_2A_cumsum / (cumulative_metrics_2A['games_played'])\n",
    "cumulative_metrics_3A['average_muscle_fatigue'] = muscle_fatigue_3A_cumsum / (cumulative_metrics_3A['games_played'])\n",
    "cumulative_metrics_4A['average_muscle_fatigue'] = muscle_fatigue_4A_cumsum / (cumulative_metrics_4A['games_played'])"
   ]
  },
  {
   "cell_type": "code",
   "execution_count": null,
   "metadata": {},
   "outputs": [],
   "source": [
    "cumulative_metrics_1A = cumulative_metrics_1A.groupby('pitcher').apply(pd.DataFrame).reset_index(drop=True)\n",
    "cumulative_metrics_2A = cumulative_metrics_2A.groupby('pitcher').apply(pd.DataFrame).reset_index(drop=True)\n",
    "cumulative_metrics_3A = cumulative_metrics_3A.groupby('pitcher').apply(pd.DataFrame).reset_index(drop=True)\n",
    "cumulative_metrics_4A = cumulative_metrics_4A.groupby('pitcher').apply(pd.DataFrame).reset_index(drop=True)"
   ]
  },
  {
   "cell_type": "code",
   "execution_count": null,
   "metadata": {},
   "outputs": [],
   "source": [
    "cumulative_metrics_1A['rest_days'] = calculate_rest_days(cumulative_metrics_1A)\n",
    "cumulative_metrics_2A['rest_days'] = calculate_rest_days(cumulative_metrics_2A)\n",
    "cumulative_metrics_3A['rest_days'] = calculate_rest_days(cumulative_metrics_3A)\n",
    "cumulative_metrics_4A['rest_days'] = calculate_rest_days(cumulative_metrics_4A)"
   ]
  },
  {
   "cell_type": "code",
   "execution_count": null,
   "metadata": {},
   "outputs": [],
   "source": [
    "season_df = pd.concat([get_season_metrics_df(cumulative_metrics_1A), get_season_metrics_df(cumulative_metrics_2A), get_season_metrics_df(cumulative_metrics_3A), get_season_metrics_df(cumulative_metrics_4A)]).drop(columns=['rest_days'])\n",
    "season_df.rename(columns={'game_day': 'last_game_day_played'}, inplace=True)\n",
    "season_df.reset_index(drop=True)"
   ]
  },
  {
   "cell_type": "code",
   "execution_count": null,
   "metadata": {},
   "outputs": [],
   "source": [
    "season_df[['average_rest_days', 'fatigue_units', 'average_muscle_fatigue', 'WHIP', 'K/IP', 'innings_pitched', 'total_pitches', 'games_played']] = season_df[['average_rest_days', 'fatigue_units', 'average_muscle_fatigue', 'WHIP', 'K/IP', 'innings_pitched', 'total_pitches', 'games_played']].astype(float)"
   ]
  },
  {
   "cell_type": "code",
   "execution_count": null,
   "metadata": {},
   "outputs": [],
   "source": [
    "season_df.to_csv('season_metrics.csv', index=False)"
   ]
  },
  {
   "cell_type": "markdown",
   "metadata": {},
   "source": [
    "## Getting metrics for pitchers who played in extra-innings"
   ]
  },
  {
   "cell_type": "code",
   "execution_count": null,
   "metadata": {},
   "outputs": [],
   "source": [
    "game_info_1A_extra = game_info_subset.to_table(filter = (pads.field('Season') == 'Season_1884') & (pads.field('home_team') == 'Home1A') & (pads.field('top_bottom') == 'top') & (pads.field('pitcher') < 1000) & (pads.field('inning') > 9)).to_pandas().dropna(subset=['pitcher'])\n",
    "game_info_2A_extra = game_info_subset.to_table(filter = (pads.field('Season') == 'Season_1884') & (pads.field('home_team') == 'Home2A') & (pads.field('top_bottom') == 'top') & (pads.field('pitcher') < 1000) & (pads.field('inning') > 9)).to_pandas().dropna(subset=['pitcher'])\n",
    "game_info_3A_extra = game_info_subset.to_table(filter = (pads.field('Season') == 'Season_1884') & (pads.field('home_team') == 'Home3A') & (pads.field('top_bottom') == 'top') & (pads.field('pitcher') < 1000) & (pads.field('inning') > 9)).to_pandas().dropna(subset=['pitcher'])\n",
    "game_info_4A_extra = game_info_subset.to_table(filter = (pads.field('Season') == 'Season_1884') & (pads.field('home_team') == 'Home4A') & (pads.field('top_bottom') == 'top') & (pads.field('pitcher') < 1000) & (pads.field('inning') > 9)).to_pandas().dropna(subset=['pitcher'])"
   ]
  },
  {
   "cell_type": "code",
   "execution_count": null,
   "metadata": {},
   "outputs": [],
   "source": [
    "hits_list_1A_extra, walks_list_1A_extra, strikeout_list_1A_extra, batters_faced_list_1A_extra, innings_pitched_list_1A_extra, is_starter_list_1A_extra = get_pitching_metrics(game_info_1A_extra, '1A')\n",
    "hits_list_2A_extra, walks_list_2A_extra, strikeout_list_2A_extra, batters_faced_list_2A_extra, innings_pitched_list_2A_extra, is_starter_list_2A_extra = get_pitching_metrics(game_info_2A_extra, '2A')\n",
    "hits_list_3A_extra, walks_list_3A_extra, strikeout_list_3A_extra, batters_faced_list_3A_extra, innings_pitched_list_3A_extra, is_starter_list_3A_extra = get_pitching_metrics(game_info_3A_extra, '3A')\n",
    "hits_list_4A_extra, walks_list_4A_extra, strikeout_list_4A_extra, batters_faced_list_4A_extra, innings_pitched_list_4A_extra, is_starter_list_4A_extra = get_pitching_metrics(game_info_4A_extra, '4A')"
   ]
  },
  {
   "cell_type": "code",
   "execution_count": null,
   "metadata": {},
   "outputs": [],
   "source": [
    "pitching_metrics_1A_extra = create_pitching_metrics_df(game_info_1A_extra, hits_list_1A_extra, walks_list_1A_extra, strikeout_list_1A_extra, batters_faced_list_1A_extra, innings_pitched_list_1A_extra, is_starter_list_1A_extra)\n",
    "pitching_metrics_2A_extra = create_pitching_metrics_df(game_info_2A_extra, hits_list_2A_extra, walks_list_2A_extra, strikeout_list_2A_extra, batters_faced_list_2A_extra, innings_pitched_list_2A_extra, is_starter_list_2A_extra)\n",
    "pitching_metrics_3A_extra = create_pitching_metrics_df(game_info_3A_extra, hits_list_3A_extra, walks_list_3A_extra, strikeout_list_3A_extra, batters_faced_list_3A_extra, innings_pitched_list_3A_extra, is_starter_list_3A_extra)\n",
    "pitching_metrics_4A_extra = create_pitching_metrics_df(game_info_4A_extra, hits_list_4A_extra, walks_list_4A_extra, strikeout_list_4A_extra, batters_faced_list_4A_extra, innings_pitched_list_4A_extra, is_starter_list_4A_extra)"
   ]
  },
  {
   "cell_type": "code",
   "execution_count": null,
   "metadata": {},
   "outputs": [],
   "source": [
    "total_pitches_list_1A_extra, pace_list_1A_extra = calculate_pace(game_info_1A_extra, '1A')\n",
    "total_pitches_list_2A_extra, pace_list_2A_extra = calculate_pace(game_info_2A_extra, '2A')\n",
    "total_pitches_list_3A_extra, pace_list_3A_extra = calculate_pace(game_info_3A_extra, '3A')\n",
    "total_pitches_list_4A_extra, pace_list_4A_extra = calculate_pace(game_info_4A_extra, '4A')"
   ]
  },
  {
   "cell_type": "code",
   "execution_count": null,
   "metadata": {},
   "outputs": [],
   "source": [
    "pitching_metrics_1A_extra['total_pitches'] = total_pitches_list_1A_extra\n",
    "pitching_metrics_1A_extra['pace'] = pace_list_1A_extra\n",
    "pitching_metrics_2A_extra['total_pitches'] = total_pitches_list_2A_extra\n",
    "pitching_metrics_2A_extra['pace'] = pace_list_2A_extra\n",
    "pitching_metrics_3A_extra['total_pitches'] = total_pitches_list_3A_extra\n",
    "pitching_metrics_3A_extra['pace'] = pace_list_3A_extra\n",
    "pitching_metrics_4A_extra['total_pitches'] = total_pitches_list_4A_extra\n",
    "pitching_metrics_4A_extra['pace'] = pace_list_4A_extra"
   ]
  },
  {
   "cell_type": "code",
   "execution_count": null,
   "metadata": {},
   "outputs": [],
   "source": [
    "pitching_metrics_1A_extra['muscle_fatigue'] = apply_muscle_fatigue_equation(pitching_metrics_1A_extra)\n",
    "pitching_metrics_2A_extra['muscle_fatigue'] = apply_muscle_fatigue_equation(pitching_metrics_2A_extra)\n",
    "pitching_metrics_3A_extra['muscle_fatigue'] = apply_muscle_fatigue_equation(pitching_metrics_3A_extra)\n",
    "pitching_metrics_4A_extra['muscle_fatigue'] = apply_muscle_fatigue_equation(pitching_metrics_4A_extra)"
   ]
  },
  {
   "cell_type": "code",
   "execution_count": null,
   "metadata": {},
   "outputs": [],
   "source": [
    "cumulative_metrics_1A_extra = create_cumulative_pitching_metrics_df(pitching_metrics_1A_extra).drop(columns=['pace'])\n",
    "cumulative_metrics_2A_extra = create_cumulative_pitching_metrics_df(pitching_metrics_2A_extra).drop(columns=['pace'])\n",
    "cumulative_metrics_3A_extra = create_cumulative_pitching_metrics_df(pitching_metrics_3A_extra).drop(columns=['pace'])\n",
    "cumulative_metrics_4A_extra = create_cumulative_pitching_metrics_df(pitching_metrics_4A_extra).drop(columns=['pace'])"
   ]
  },
  {
   "cell_type": "code",
   "execution_count": null,
   "metadata": {},
   "outputs": [],
   "source": [
    "cumulative_metrics_1A_extra['fatigue_units'] = apply_fatigue_unit_equation(cumulative_metrics_1A_extra)\n",
    "cumulative_metrics_2A_extra['fatigue_units'] = apply_fatigue_unit_equation(cumulative_metrics_2A_extra)\n",
    "cumulative_metrics_3A_extra['fatigue_units'] = apply_fatigue_unit_equation(cumulative_metrics_3A_extra)\n",
    "cumulative_metrics_4A_extra['fatigue_units'] = apply_fatigue_unit_equation(cumulative_metrics_4A_extra)\n",
    "\n",
    "muscle_fatigue_1A_extra_cumsum = pitching_metrics_1A_extra.groupby('pitcher').agg({'muscle_fatigue': 'cumsum'})['muscle_fatigue'].tolist()\n",
    "muscle_fatigue_2A_extra_cumsum = pitching_metrics_2A_extra.groupby('pitcher').agg({'muscle_fatigue': 'cumsum'})['muscle_fatigue'].tolist()\n",
    "muscle_fatigue_3A_extra_cumsum = pitching_metrics_3A_extra.groupby('pitcher').agg({'muscle_fatigue': 'cumsum'})['muscle_fatigue'].tolist()\n",
    "muscle_fatigue_4A_extra_cumsum = pitching_metrics_4A_extra.groupby('pitcher').agg({'muscle_fatigue': 'cumsum'})['muscle_fatigue'].tolist()\n",
    "\n",
    "cumulative_metrics_1A_extra['average_muscle_fatigue'] = muscle_fatigue_1A_extra_cumsum / (cumulative_metrics_1A_extra['games_played'])\n",
    "cumulative_metrics_2A_extra['average_muscle_fatigue'] = muscle_fatigue_2A_extra_cumsum / (cumulative_metrics_2A_extra['games_played'])\n",
    "cumulative_metrics_3A_extra['average_muscle_fatigue'] = muscle_fatigue_3A_extra_cumsum / (cumulative_metrics_3A_extra['games_played'])\n",
    "cumulative_metrics_4A_extra['average_muscle_fatigue'] = muscle_fatigue_4A_extra_cumsum / (cumulative_metrics_4A_extra['games_played'])"
   ]
  },
  {
   "cell_type": "code",
   "execution_count": null,
   "metadata": {},
   "outputs": [],
   "source": [
    "cumulative_metrics_1A_extra = cumulative_metrics_1A_extra.groupby('pitcher').apply(pd.DataFrame).reset_index(drop=True)\n",
    "cumulative_metrics_2A_extra = cumulative_metrics_2A_extra.groupby('pitcher').apply(pd.DataFrame).reset_index(drop=True)\n",
    "cumulative_metrics_3A_extra = cumulative_metrics_3A_extra.groupby('pitcher').apply(pd.DataFrame).reset_index(drop=True)\n",
    "cumulative_metrics_4A_extra = cumulative_metrics_4A_extra.groupby('pitcher').apply(pd.DataFrame).reset_index(drop=True)"
   ]
  },
  {
   "cell_type": "code",
   "execution_count": null,
   "metadata": {},
   "outputs": [],
   "source": [
    "cumulative_metrics_1A_extra['rest_days'] = calculate_rest_days(cumulative_metrics_1A_extra)\n",
    "cumulative_metrics_2A_extra['rest_days'] = calculate_rest_days(cumulative_metrics_2A_extra)\n",
    "cumulative_metrics_3A_extra['rest_days'] = calculate_rest_days(cumulative_metrics_3A_extra)\n",
    "cumulative_metrics_4A_extra['rest_days'] = calculate_rest_days(cumulative_metrics_4A_extra)"
   ]
  },
  {
   "cell_type": "code",
   "execution_count": null,
   "metadata": {},
   "outputs": [],
   "source": [
    "season_df_extra = pd.concat([get_season_metrics_df(cumulative_metrics_1A_extra), get_season_metrics_df(cumulative_metrics_2A_extra), get_season_metrics_df(cumulative_metrics_3A_extra), get_season_metrics_df(cumulative_metrics_4A_extra)]).drop(columns=['rest_days'])\n",
    "season_df_extra.rename(columns={'game_day': 'last_game_day_played'}, inplace=True)\n",
    "season_df_extra.reset_index(drop=True)"
   ]
  },
  {
   "cell_type": "code",
   "execution_count": null,
   "metadata": {},
   "outputs": [],
   "source": [
    "season_df_extra.to_csv('extra_inning_metrics.csv', index=False)"
   ]
  },
  {
   "cell_type": "markdown",
   "metadata": {},
   "source": [
    "## Cluster Analysis"
   ]
  },
  {
   "cell_type": "code",
   "execution_count": null,
   "metadata": {},
   "outputs": [],
   "source": [
    "from sklearn.cluster import KMeans\n",
    "from sklearn.metrics import silhouette_score\n",
    "import matplotlib.pyplot as plt\n",
    "import seaborn as sns"
   ]
  },
  {
   "cell_type": "code",
   "execution_count": null,
   "metadata": {},
   "outputs": [],
   "source": [
    "sse = []\n",
    "for k in range(1, 11):\n",
    "    kmeans = KMeans(n_clusters=k, random_state=42, n_init=10)\n",
    "    kmeans.fit(season_df[['level', 'average_rest_days', 'fatigue_units', 'average_muscle_fatigue', 'games_played', 'innings_pitched', 'total_pitches', 'WHIP', 'K/IP']])\n",
    "    sse.append(kmeans.inertia_)\n",
    "\n",
    "plt.figure(figsize=(10, 6))\n",
    "plt.plot(range(1, 11), sse, marker='o')\n",
    "plt.xlabel('Number of clusters')\n",
    "plt.ylabel('Sum of squared errors')\n",
    "plt.title('Elbow Method for Optimal Number of Clusters')\n",
    "plt.show()"
   ]
  },
  {
   "cell_type": "code",
   "execution_count": null,
   "metadata": {},
   "outputs": [],
   "source": [
    "clusters = 4\n",
    "\n",
    "kmeans = KMeans(n_clusters=clusters, random_state=42, n_init=10)\n",
    "season_df['cluster'] = kmeans.fit_predict(season_df[['level', 'average_rest_days', 'fatigue_units', 'average_muscle_fatigue', 'games_played', 'innings_pitched', 'total_pitches', 'WHIP', 'K/IP']])\n",
    "\n",
    "sil_score = silhouette_score(season_df[['level', 'average_rest_days', 'fatigue_units', 'average_muscle_fatigue', 'games_played', 'innings_pitched', 'total_pitches', 'WHIP', 'K/IP']], season_df['cluster'])\n",
    "print(f'Silhouette Score: {sil_score}')"
   ]
  },
  {
   "cell_type": "code",
   "execution_count": null,
   "metadata": {},
   "outputs": [],
   "source": [
    "cluster_summary = season_df.groupby('cluster').mean().reset_index()\n",
    "cluster_summary.drop(columns=['pitcher'], inplace=True)"
   ]
  },
  {
   "cell_type": "code",
   "execution_count": null,
   "metadata": {},
   "outputs": [],
   "source": [
    "cluster_summary.to_csv('cluster_summary.csv', index=False)"
   ]
  },
  {
   "cell_type": "code",
   "execution_count": null,
   "metadata": {},
   "outputs": [],
   "source": [
    "cluster_list = []\n",
    "pitchers_list = season_df_extra['pitcher'].tolist()\n",
    "level_list = season_df_extra['level'].tolist()\n",
    "for i in range(len(season_df_extra)):\n",
    "    pitcher_id = pitchers_list[i]\n",
    "    level = level_list[i]\n",
    "    cluster = season_df[(season_df['pitcher'] == pitcher_id) & (season_df['level'] == level)]['cluster'].values[0]\n",
    "    cluster_list.append(cluster)\n",
    "season_df_extra['cluster'] = cluster_list"
   ]
  },
  {
   "cell_type": "code",
   "execution_count": null,
   "metadata": {},
   "outputs": [],
   "source": [
    "cluster_summary_extra_df = season_df_extra.drop(columns=['pitcher']).groupby('cluster').mean().reset_index()"
   ]
  },
  {
   "cell_type": "code",
   "execution_count": null,
   "metadata": {},
   "outputs": [],
   "source": [
    "cluster_summary_extra_df.to_csv('cluster_summary_extra_inning.csv', index=False)"
   ]
  },
  {
   "cell_type": "markdown",
   "metadata": {},
   "source": [
    "## Predictive Modelling"
   ]
  },
  {
   "cell_type": "code",
   "execution_count": null,
   "metadata": {},
   "outputs": [],
   "source": [
    "import numpy as np\n",
    "from sklearn.model_selection import train_test_split\n",
    "from xgboost import XGBClassifier\n",
    "from sklearn.ensemble import RandomForestClassifier\n",
    "from sklearn.naive_bayes import GaussianNB\n",
    "from sklearn.metrics import accuracy_score, confusion_matrix\n",
    "import joblib"
   ]
  },
  {
   "cell_type": "code",
   "execution_count": null,
   "metadata": {},
   "outputs": [],
   "source": [
    "features = ['average_rest_days', 'fatigue_units', 'average_muscle_fatigue', 'games_played', 'total_pitches']\n",
    "X = season_df[features]\n",
    "y = season_df[['cluster']]\n",
    "\n",
    "X_train, X_test, y_train, y_test = train_test_split(X, y, test_size=0.4, random_state=42)"
   ]
  },
  {
   "cell_type": "code",
   "execution_count": null,
   "metadata": {},
   "outputs": [],
   "source": [
    "# XGB Classifier\n",
    "xgb = XGBClassifier(random_state=42)\n",
    "xgb.fit(X_train, y_train)\n",
    "\n",
    "y_pred = xgb.predict(X_test)\n",
    "\n",
    "\n",
    "print(\"Accuracy:\", accuracy_score(y_test, y_pred))"
   ]
  },
  {
   "cell_type": "code",
   "execution_count": null,
   "metadata": {},
   "outputs": [],
   "source": [
    "# Random forest classifier\n",
    "rf = RandomForestClassifier(n_estimators=100, random_state=42)\n",
    "rf.fit(X_train, np.ravel(y_train))\n",
    "\n",
    "y_pred = rf.predict(X_test)\n",
    "cm = confusion_matrix(y_test, y_pred)\n",
    "\n",
    "print(\"Accuracy:\", accuracy_score(y_test, y_pred))"
   ]
  },
  {
   "cell_type": "code",
   "execution_count": null,
   "metadata": {},
   "outputs": [],
   "source": [
    "# Naive Bayes\n",
    "gnb = GaussianNB()\n",
    "gnb.fit(X_train, np.ravel(y_train))\n",
    "\n",
    "y_pred = gnb.predict(X_test)\n",
    "\n",
    "print(\"Accuracy:\", accuracy_score(y_test, y_pred))\n"
   ]
  },
  {
   "cell_type": "code",
   "execution_count": null,
   "metadata": {},
   "outputs": [],
   "source": [
    "joblib.dump(rf, 'pitcher_classifier_model.joblib')"
   ]
  },
  {
   "cell_type": "markdown",
   "metadata": {},
   "source": [
    "## Visualization"
   ]
  },
  {
   "cell_type": "code",
   "execution_count": null,
   "metadata": {},
   "outputs": [],
   "source": [
    "categories = ['1', '2', '3', '4']  \n",
    "plt.figure(figsize=(20, 6))\n",
    "\n",
    "# Plot confusion matrix\n",
    "plt.subplot(1, 2, 1)\n",
    "plt.imshow(cm, interpolation='nearest', cmap='coolwarm')\n",
    "plt.title('Confusion Matrix for Random Forest Classifier')\n",
    "plt.colorbar()\n",
    "\n",
    "tick_marks = np.arange(len(categories))\n",
    "plt.xticks(tick_marks, categories)\n",
    "plt.yticks(tick_marks, categories)\n",
    "\n",
    "thresh = cm.max() / 3\n",
    "for i in range(len(categories)):\n",
    "    for j in range(len(categories)):\n",
    "        plt.text(j, i, cm[i, j],\n",
    "                 horizontalalignment=\"center\",\n",
    "                 color=\"white\" if (cm[i, j] > (cm.max() - thresh) or cm[i, j] < thresh) else \"black\")\n",
    "plt.xlabel('Predicted Clusters')\n",
    "plt.ylabel('Actual Clusters')\n",
    "\n",
    "# Plot feature importances\n",
    "importances = rf.feature_importances_\n",
    "indices = np.argsort(importances)\n",
    "\n",
    "plt.subplot(1,2,2)\n",
    "plt.title(\"Feature Importances\")\n",
    "plt.barh(range(X.shape[1]), importances[indices], color=\"blue\", align=\"center\")\n",
    "plt.yticks(range(X.shape[1]), np.array(features)[indices])\n",
    "plt.xlabel('Importance')\n",
    "plt.gca().invert_yaxis()\n",
    "plt.gca().invert_yaxis()\n",
    "\n",
    "plt.show()"
   ]
  },
  {
   "cell_type": "code",
   "execution_count": null,
   "metadata": {},
   "outputs": [],
   "source": [
    "cluster_summary['cluster'] = cluster_summary['cluster'].map({0: 1, 1: 2, 2: 3, 3: 4})\n",
    "season_df['cluster'] = season_df['cluster'].map({0: 1, 1: 2, 2: 3, 3: 4})\n",
    "cluster_summary_extra_df['cluster'] = cluster_summary_extra_df['cluster'].map({0: 1, 1: 2, 2: 3, 3: 4})"
   ]
  },
  {
   "cell_type": "code",
   "execution_count": null,
   "metadata": {},
   "outputs": [],
   "source": [
    "pastel_colors = sns.color_palette(\"pastel\")"
   ]
  },
  {
   "cell_type": "code",
   "execution_count": null,
   "metadata": {},
   "outputs": [],
   "source": [
    "# Scatter plot using Seaborn\n",
    "plt.figure(figsize=(12, 10))\n",
    "\n",
    "plt.subplot(2, 2, 1)\n",
    "sns.scatterplot(data=season_df, x='fatigue_units', y='average_muscle_fatigue', hue='cluster', palette='pastel', s=100)\n",
    "plt.title('Fatigue Units vs Muscle Fatigue')\n",
    "plt.xlabel('fatigue_units')\n",
    "plt.ylabel('average_muscle_fatigue')\n",
    "plt.legend(title='Cluster')\n",
    "plt.grid(True)\n",
    "\n",
    "plt.subplot(2, 2, 2)\n",
    "sns.scatterplot(data=season_df, x='games_played', y='total_pitches', hue='cluster', palette='pastel', s=100)\n",
    "plt.title('Games Played vs Total Pitches')\n",
    "plt.xlabel('games_played')\n",
    "plt.ylabel('total_pitches')\n",
    "plt.legend(title='Cluster')\n",
    "plt.grid(True)\n",
    "\n",
    "plt.subplot(2, 2, 3)\n",
    "sns.scatterplot(data=season_df, x='fatigue_units', y='average_rest_days', hue='cluster', palette='pastel', s=100)\n",
    "plt.title('Fatigue Units vs Average Rest Days')\n",
    "plt.xlabel('fatigue_units')\n",
    "plt.ylabel('average_rest_days')\n",
    "plt.legend(title='Cluster')\n",
    "plt.grid(True)\n",
    "\n",
    "plt.subplot(2, 2, 4)\n",
    "sns.scatterplot(data=season_df, x='K/IP', y='WHIP', hue='cluster', palette='pastel', s=100)\n",
    "plt.title('K/IP vs WHIP')\n",
    "plt.xlabel('K/IP')\n",
    "plt.ylabel('WHIP')\n",
    "plt.legend(title='Cluster')\n",
    "plt.grid(True)\n",
    "\n",
    "\n",
    "\n",
    "plt.show()"
   ]
  },
  {
   "cell_type": "code",
   "execution_count": null,
   "metadata": {},
   "outputs": [],
   "source": [
    "# Plotting the average performance metrics for each cluster\n",
    "plt.figure(figsize=(12, 8))\n",
    "\n",
    "# WHIP by cluster\n",
    "plt.subplot(2, 2, 1)\n",
    "sns.barplot(x=cluster_summary_extra_df['cluster'], y=cluster_summary_extra_df['WHIP'], palette='pastel')\n",
    "plt.title('Average WHIP in Extra-innings')\n",
    "plt.xlabel('Cluster')\n",
    "plt.ylabel('WHIP')\n",
    "\n",
    "# Strikeouts per inning by cluster\n",
    "plt.subplot(2, 2, 2)\n",
    "sns.barplot(x=cluster_summary_extra_df['cluster'], y=cluster_summary_extra_df['K/IP'], palette='pastel')\n",
    "plt.title('Average K/IP in Extra-innings')\n",
    "plt.xlabel('Cluster')\n",
    "plt.ylabel('K/IP')\n",
    "\n",
    "# Total pitches by cluster\n",
    "plt.subplot(2, 2, 3)\n",
    "sns.barplot(x=cluster_summary_extra_df['cluster'], y=cluster_summary_extra_df['total_pitches'], palette='pastel')\n",
    "plt.title('Average Number of Pitches in Extra-innings')\n",
    "plt.xlabel('Cluster')\n",
    "plt.ylabel('Pitches')\n",
    "\n",
    "# Muscle fatigue by cluster\n",
    "plt.subplot(2, 2, 4)\n",
    "sns.barplot(x=cluster_summary_extra_df['cluster'], y=cluster_summary_extra_df['average_muscle_fatigue'], palette='pastel')\n",
    "plt.title('Average Muscle Fatigue in Extra-innings')\n",
    "plt.xlabel('Cluster')\n",
    "plt.ylabel('Muscle Fatigue')\n",
    "\n",
    "plt.tight_layout()\n",
    "plt.show()"
   ]
  },
  {
   "cell_type": "code",
   "execution_count": null,
   "metadata": {},
   "outputs": [],
   "source": [
    "# Plotting the average performance metrics for each cluster\n",
    "plt.figure(figsize=(12, 8))\n",
    "\n",
    "# WHIP by cluster\n",
    "plt.subplot(2, 2, 1)\n",
    "sns.barplot(x=cluster_summary['cluster'], y=cluster_summary['WHIP'], palette='pastel')\n",
    "plt.title('Average WHIP')\n",
    "plt.xlabel('Cluster')\n",
    "plt.ylabel('WHIP')\n",
    "\n",
    "# Strikeouts per inning by cluster\n",
    "plt.subplot(2, 2, 2)\n",
    "sns.barplot(x=cluster_summary['cluster'], y=cluster_summary['K/IP'], palette='pastel')\n",
    "plt.title('Average K/IP')\n",
    "plt.xlabel('Cluster')\n",
    "plt.ylabel('K/IP')\n",
    "\n",
    "# Games started vs relieved by cluster\n",
    "melted_df = cluster_summary.melt(id_vars=['cluster'], \n",
    "                    value_vars=['games_started', 'games_relieved'],\n",
    "                    var_name='games', value_name='value')\n",
    "plt.subplot(2, 2, 3)\n",
    "sns.barplot(x='cluster', y='value', hue='games', data=melted_df, palette='pastel')\n",
    "plt.title('Average Games Started vs Relieved')\n",
    "plt.xlabel('Cluster')\n",
    "plt.ylabel('Games')\n",
    "\n",
    "# Innings pitched by cluster\n",
    "plt.subplot(2, 2, 4)\n",
    "sns.barplot(x=cluster_summary['cluster'], y=cluster_summary['innings_pitched'], palette='pastel')\n",
    "plt.title('Average Number of Innings Pitched')\n",
    "plt.xlabel('Cluster')\n",
    "plt.ylabel('Innings Pitched')\n",
    "\n",
    "plt.tight_layout()\n",
    "plt.show()"
   ]
  },
  {
   "cell_type": "code",
   "execution_count": null,
   "metadata": {},
   "outputs": [],
   "source": [
    "# Plotting the average performance metrics for each cluster\n",
    "plt.figure(figsize=(12, 4))\n",
    "\n",
    "# Fatigue units by cluster\n",
    "plt.subplot(1, 2, 1)\n",
    "sns.barplot(x=cluster_summary['cluster'], y=cluster_summary['fatigue_units'], palette='pastel')\n",
    "plt.title('Average Fatigue Units')\n",
    "plt.xlabel('Cluster')\n",
    "plt.ylabel('Fatigue units')\n",
    "\n",
    "# Muscle fatigue by cluster\n",
    "plt.subplot(1, 2, 2)\n",
    "sns.barplot(x=cluster_summary['cluster'], y=cluster_summary['average_muscle_fatigue'], palette='pastel')\n",
    "plt.title('Average Mudcle Fatigue')\n",
    "plt.xlabel('Cluster')\n",
    "plt.ylabel('Muscle fatigue')\n",
    "\n",
    "plt.tight_layout()\n",
    "plt.show()"
   ]
  },
  {
   "cell_type": "code",
   "execution_count": null,
   "metadata": {},
   "outputs": [],
   "source": [
    "cluster_counts = season_df.groupby(['level', 'cluster']).size().reset_index(name='counts')\n",
    "cluster_pivot = cluster_counts.pivot(index='level', columns='cluster', values='counts')\n",
    "cluster_pivot.plot(kind='bar', stacked=True, figsize=(10, 6), color=pastel_colors)\n",
    "plt.title('Number of Pitchers in Each Cluster by Level')\n",
    "plt.xticks(rotation=0)\n",
    "plt.xlabel('Level')\n",
    "plt.ylabel('Number of Pitchers')\n",
    "plt.legend(title='Cluster', loc='upper center')\n",
    "plt.show()"
   ]
  },
  {
   "cell_type": "markdown",
   "metadata": {},
   "source": [
    "## Results"
   ]
  },
  {
   "cell_type": "code",
   "execution_count": null,
   "metadata": {},
   "outputs": [],
   "source": [
    "season_df['roles'] = season_df['cluster'].apply(lambda x: 'Versatile Reliever' if x == 1 else 'Middle Reliever' if x == 2 else 'Starting Pitcher' if x == 3 else 'Closer')"
   ]
  },
  {
   "cell_type": "code",
   "execution_count": null,
   "metadata": {},
   "outputs": [],
   "source": [
    "season_df[['level', 'pitcher', 'roles']].to_csv('pitcher_roles.csv', index=False)"
   ]
  }
 ],
 "metadata": {
  "kernelspec": {
   "display_name": "base",
   "language": "python",
   "name": "python3"
  },
  "language_info": {
   "codemirror_mode": {
    "name": "ipython",
    "version": 3
   },
   "file_extension": ".py",
   "mimetype": "text/x-python",
   "name": "python",
   "nbconvert_exporter": "python",
   "pygments_lexer": "ipython3",
   "version": "3.11.7"
  }
 },
 "nbformat": 4,
 "nbformat_minor": 2
}
